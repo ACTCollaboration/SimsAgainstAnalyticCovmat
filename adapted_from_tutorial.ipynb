{
 "cells": [
  {
   "cell_type": "markdown",
   "metadata": {},
   "source": [
    "## Scope\n",
    "In this notebook we give a very brief tutorial which focuses on the mnms python user interface. We'll use a downgraded version of the `d6` region so that all our operations are fast, even though you will probably never use that sim. This way you know how to use mnms in your own analysis code.\n",
    "\n",
    "## Tutorial\n",
    "\n",
    "In mnms, we always need to generate a \"sqrt-covariance\" matrix as a first step; only then can we generate sims:"
   ]
  },
  {
   "cell_type": "code",
   "execution_count": 1,
   "metadata": {},
   "outputs": [
    {
     "data": {
      "text/plain": [
       "{'maps_path': '/scratch/gpfs/zequnl/data/ACTCollaboration/mnms/maps/',\n",
       " 'covmat_path': '/scratch/gpfs/zequnl/data/ACTCollaboration/mnms/covmats/',\n",
       " 'mask_path': '/scratch/gpfs/zequnl/data/ACTCollaboration/mnms/masks/',\n",
       " 'default_data_model': 'dr6'}"
      ]
     },
     "execution_count": 1,
     "metadata": {},
     "output_type": "execute_result"
    }
   ],
   "source": [
    "from soapack import interfaces as sints\n",
    "sints.dconfig['mnms']"
   ]
  },
  {
   "cell_type": "code",
   "execution_count": 2,
   "metadata": {},
   "outputs": [],
   "source": [
    "from mnms import noise_models as nm\n",
    "from soapack import interfaces as sints\n",
    "\n",
    "# load the DR5 data model in order to be able to use deep6 (qid = 'd6') data\n",
    "dm = sints.DR6()"
   ]
  },
  {
   "cell_type": "markdown",
   "metadata": {},
   "source": [
    "Create a \"TiledNoiseModel\" instance, and a \"WaveletNoiseModel\" instance:"
   ]
  },
  {
   "cell_type": "code",
   "execution_count": 3,
   "metadata": {},
   "outputs": [
    {
     "name": "stdout",
     "output_type": "stream",
     "text": [
      " 9.02  3.04  8.39 Loading mask for pa4a\n",
      "70.15 19.09 22.66 Loading ivar for pa4a\n"
     ]
    }
   ],
   "source": [
    "tnm = nm.TiledNoiseModel('pa4a', data_model=dm, \n",
    "#                          downgrade=8, \n",
    "                         mask_version='masks_20200723', \n",
    "                        union_sources='20210209_sncut_10_aggressive', notes='basic_pa4a_model')"
   ]
  },
  {
   "cell_type": "markdown",
   "metadata": {},
   "source": [
    "Now we need to make our noise model. Because they are the slowest step to make, and take up a lot of space, by default they are written to disk. The idea is that outside of testing/development, you only need to ever run this command once (per data-release, array-set, other parameters, etc):"
   ]
  },
  {
   "cell_type": "code",
   "execution_count": 4,
   "metadata": {},
   "outputs": [],
   "source": [
    "tnm.get_model()"
   ]
  },
  {
   "cell_type": "markdown",
   "metadata": {},
   "source": [
    "To save you from accidentally regenerating the exact same model again, the argument `check_on_disk` is `True` by default. If I rerun `get_model`, it will find that the model is on-disk, and return nothing (you can also keep the model in memory, stored as an instance attribute, if you want, via `keep_model=True`):"
   ]
  },
  {
   "cell_type": "markdown",
   "metadata": {},
   "source": [
    "That was fast, and that's because the models are on-disk:"
   ]
  },
  {
   "cell_type": "code",
   "execution_count": 5,
   "metadata": {},
   "outputs": [
    {
     "name": "stdout",
     "output_type": "stream",
     "text": [
      "/scratch/gpfs/zequnl/data/ACTCollaboration/mnms/covmats/pa4a_dr6_masks_20200723_bin_apod_cal_True_dg1_ip20210209_sncut_10_aggressive_w4.0_h4.0_lsmooth400_lmax21600_basic_pa4a_model_set0.fits\n",
      "/scratch/gpfs/zequnl/data/ACTCollaboration/mnms/covmats/pa4a_dr6_masks_20200723_bin_apod_cal_True_dg1_ip20210209_sncut_10_aggressive_w4.0_h4.0_lsmooth400_lmax21600_basic_pa4a_model_set1.fits\n",
      "/scratch/gpfs/zequnl/data/ACTCollaboration/mnms/covmats/pa4a_dr6_masks_20200723_bin_apod_cal_True_dg1_ip20210209_sncut_10_aggressive_w4.0_h4.0_lsmooth400_lmax21600_basic_pa4a_model_set2.fits\n",
      "/scratch/gpfs/zequnl/data/ACTCollaboration/mnms/covmats/pa4a_dr6_masks_20200723_bin_apod_cal_True_dg1_ip20210209_sncut_10_aggressive_w4.0_h4.0_lsmooth400_lmax21600_basic_pa4a_model_set3.fits\n",
      "/scratch/gpfs/zequnl/data/ACTCollaboration/mnms/covmats/pa4a_dr6_masks_20200723_bin_apod_cal_True_dg1_ip20210209_sncut_10_aggressive_w4.0_h4.0_lsmooth400_lmax21600_basic_pa4a_model_set4.fits\n",
      "/scratch/gpfs/zequnl/data/ACTCollaboration/mnms/covmats/pa4a_dr6_masks_20200723_bin_apod_cal_True_dg1_ip20210209_sncut_10_aggressive_w4.0_h4.0_lsmooth400_lmax21600_basic_pa4a_model_set5.fits\n",
      "/scratch/gpfs/zequnl/data/ACTCollaboration/mnms/covmats/pa4a_dr6_masks_20200723_bin_apod_cal_True_dg1_ip20210209_sncut_10_aggressive_w4.0_h4.0_lsmooth400_lmax21600_basic_pa4a_model_set6.fits\n",
      "/scratch/gpfs/zequnl/data/ACTCollaboration/mnms/covmats/pa4a_dr6_masks_20200723_bin_apod_cal_True_dg1_ip20210209_sncut_10_aggressive_w4.0_h4.0_lsmooth400_lmax21600_basic_pa4a_model_set7.fits\n"
     ]
    }
   ],
   "source": [
    "ls /scratch/gpfs/zequnl/data/ACTCollaboration/mnms/covmats/*basic_pa4a_model*"
   ]
  },
  {
   "cell_type": "code",
   "execution_count": 6,
   "metadata": {},
   "outputs": [],
   "source": [
    "# wnm = nm.WaveletNoiseModel('d6', data_model=dm, downgrade=8, mask_version='masks_20200723',\n",
    "#                             union_sources='20210209_sncut_10_aggressive', notes='my_first_model')\n",
    "# wnm.get_model()"
   ]
  },
  {
   "cell_type": "markdown",
   "metadata": {},
   "source": [
    "Note, this trick won't work if you give a model a different `notes` parameter. E.g., `my_second_model` is considered a totally distinct noise model from `my_first_model`, even if all the \"scientific\" parameters are the same.\n",
    "\n",
    "Now we can make sims. Sims are always made of single splits at a time. To do so, we must load the \"sqrt-covariance\" matrix from disk, so that we can sample from it, so make sure to have enough memory on-hand to do this. These files are only loaded once -- they are stored in the object instance, so that future calls to `get_sim` do not have to load from disk. There is also a similar `check_on_disk` parameter to prevent users from generating the same sim twice (by default this is True).\n",
    "\n",
    "By default, these are ***not*** saved to disk (but they can be, if desired). We need to tell `get_sim` which split and map number we want to make. The map number is used in getting a unique random seed (and if the sims is written to disk, will be stored in the filename):"
   ]
  },
  {
   "cell_type": "code",
   "execution_count": 7,
   "metadata": {},
   "outputs": [
    {
     "name": "stdout",
     "output_type": "stream",
     "text": [
      "Sim for split 3, map 123 not found on disk, generating instead\n",
      "Loading model for split 3 into memory\n",
      "Number of Unmasked Tiles: 1544\n",
      "Number of Arrays: 1\n",
      "Number of Splits: 8\n",
      "Number of Pols.: 3\n",
      "Tile shape: (960, 481)\n",
      "Seed: [3, 123, 3, 33310491, 0, 0, 0]\n",
      "417.95 77.52 242.66 Generating noise sim for split 3, map 123\n"
     ]
    }
   ],
   "source": [
    "tmap_s3_n123 = tnm.get_sim(3, 123, verbose=True)"
   ]
  },
  {
   "cell_type": "code",
   "execution_count": 8,
   "metadata": {},
   "outputs": [],
   "source": [
    "# wmap_s3_n123 = wnm.get_sim(3, 123, verbose=True)"
   ]
  },
  {
   "cell_type": "markdown",
   "metadata": {},
   "source": [
    "As noted in the README, these sims always have shape (num_arrays, num_splits, num_pol, ny, nx), even if some of these axes have dimension 1. Because we generate sims per split, `num_splits=1` always. Let's take a look! "
   ]
  },
  {
   "cell_type": "code",
   "execution_count": null,
   "metadata": {},
   "outputs": [],
   "source": [
    "from pixell import enplot\n",
    "\n",
    "enplot.pshow(tmap_s3_n123, colorbar=True, ticks=2)\n",
    "# enplot.pshow(wmap_s3_n123, colorbar=True, ticks=2)"
   ]
  },
  {
   "cell_type": "code",
   "execution_count": null,
   "metadata": {},
   "outputs": [],
   "source": []
  },
  {
   "cell_type": "code",
   "execution_count": null,
   "metadata": {},
   "outputs": [],
   "source": []
  }
 ],
 "metadata": {
  "interpreter": {
   "hash": "c119212e5f535e4b2ce066dbbff11cb1317190fadf2ed5bab7fd4d6239b016de"
  },
  "kernelspec": {
   "display_name": "ACT Dev (Python 3.8 Anaconda)",
   "language": "python",
   "name": "act_python3.8"
  },
  "language_info": {
   "codemirror_mode": {
    "name": "ipython",
    "version": 3
   },
   "file_extension": ".py",
   "mimetype": "text/x-python",
   "name": "python",
   "nbconvert_exporter": "python",
   "pygments_lexer": "ipython3",
   "version": "3.8.3"
  }
 },
 "nbformat": 4,
 "nbformat_minor": 5
}
